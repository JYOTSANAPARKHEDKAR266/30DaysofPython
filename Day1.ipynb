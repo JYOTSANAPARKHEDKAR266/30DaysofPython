{
  "nbformat": 4,
  "nbformat_minor": 0,
  "metadata": {
    "colab": {
      "provenance": [],
      "authorship_tag": "ABX9TyP176ZVyXA5aLv4Udq9NPJ3",
      "include_colab_link": true
    },
    "kernelspec": {
      "name": "python3",
      "display_name": "Python 3"
    },
    "language_info": {
      "name": "python"
    }
  },
  "cells": [
    {
      "cell_type": "markdown",
      "metadata": {
        "id": "view-in-github",
        "colab_type": "text"
      },
      "source": [
        "<a href=\"https://colab.research.google.com/github/JYOTSANAPARKHEDKAR266/30DaysofPython/blob/main/Day1.ipynb\" target=\"_parent\"><img src=\"https://colab.research.google.com/assets/colab-badge.svg\" alt=\"Open In Colab\"/></a>"
      ]
    },
    {
      "cell_type": "code",
      "execution_count": 5,
      "metadata": {
        "colab": {
          "base_uri": "https://localhost:8080/"
        },
        "id": "YjeW_m9HWXfJ",
        "outputId": "702fb62a-3aaf-4057-b616-d6d7b0bdf89f"
      },
      "outputs": [
        {
          "output_type": "stream",
          "name": "stdout",
          "text": [
            "Python 3.11.13\n"
          ]
        }
      ],
      "source": [
        "#Check the python version you are using\n",
        "!python --version\n"
      ]
    },
    {
      "cell_type": "code",
      "source": [
        "\"\"\"Open the python interactive shell and do the following operations. The operands are 3 and 4.\n",
        "addition(+)\n",
        "subtraction(-)\n",
        "multiplication(*)\n",
        "modulus(%)\n",
        "division(/)\n",
        "exponential(**)\n",
        "floor division operator(//)\"\"\"\n",
        "\n",
        "a = 3\n",
        "b = 4\n",
        "\n",
        "print(\"Addition\", a+b)\n",
        "print(\"Subtraction\", a-b)\n",
        "print(\"Multiplication\",a*b)\n",
        "print(\"Modulus\",a%b)\n",
        "print(\"Divison\",a/b)\n",
        "print(\"Exponential\", a**b)\n",
        "print(\"Floor Division\", a//b)\n",
        "\n",
        "\n"
      ],
      "metadata": {
        "colab": {
          "base_uri": "https://localhost:8080/"
        },
        "id": "3NTXvTuQW08j",
        "outputId": "bec04fda-9c24-4d8c-eb37-ba0e9e11cd1b"
      },
      "execution_count": 8,
      "outputs": [
        {
          "output_type": "stream",
          "name": "stdout",
          "text": [
            "Addition 7\n",
            "Subtraction -1\n",
            "Multiplication 12\n",
            "Modulus 3\n",
            "Divison 0.75\n",
            "Exponential 81\n",
            "Floor Division 0\n"
          ]
        }
      ]
    },
    {
      "cell_type": "code",
      "source": [
        "'''Write strings on the python interactive shell. The strings are the following:\n",
        "Your name\n",
        "Your family name\n",
        "Your country\n",
        "I am enjoying 30 days of python'''\n",
        "\n",
        "your_name = \"Jyotsana\"\n",
        "print(your_name)\n",
        "print(type(your_name))\n",
        "\n",
        "last_name = \"Parkhedkar\"\n",
        "print(last_name)\n",
        "print(type(last_name))\n",
        "\n",
        "country = \"USA\"\n",
        "print(country)\n",
        "\n",
        "print(\"I am enjoying 30 days of python\")\n",
        "\n"
      ],
      "metadata": {
        "colab": {
          "base_uri": "https://localhost:8080/"
        },
        "id": "ikziwi-vXBwK",
        "outputId": "3d37c629-0275-4917-f86f-9dff55384af9"
      },
      "execution_count": 10,
      "outputs": [
        {
          "output_type": "stream",
          "name": "stdout",
          "text": [
            "Jyotsana\n",
            "<class 'str'>\n",
            "Parkhedkar\n",
            "<class 'str'>\n",
            "USA\n",
            "I am enjoying 30 days of python\n"
          ]
        }
      ]
    },
    {
      "cell_type": "code",
      "source": [
        "'''Check the data types of the following data:\n",
        "10\n",
        "9.8\n",
        "3.14\n",
        "4 - 4j\n",
        "['Asabeneh', 'Python', 'Finland']\n",
        "Your name\n",
        "Your family name\n",
        "Your country'''\n",
        "\n",
        "print(type(10))\n",
        "print(type(9.8))\n",
        "print(type(3.14))\n",
        "print(type(4-4j))\n",
        "print(type(['Asabeneh', 'Python', 'Finland']))\n",
        "print(type(your_name))\n",
        "print(type(last_name))\n",
        "print(type(country))\n"
      ],
      "metadata": {
        "colab": {
          "base_uri": "https://localhost:8080/"
        },
        "id": "tbqR4-K2ZBw-",
        "outputId": "f0d7710b-3f87-4822-d465-a6c563bc3114"
      },
      "execution_count": 11,
      "outputs": [
        {
          "output_type": "stream",
          "name": "stdout",
          "text": [
            "<class 'int'>\n",
            "<class 'float'>\n",
            "<class 'float'>\n",
            "<class 'complex'>\n",
            "<class 'list'>\n",
            "<class 'str'>\n",
            "<class 'str'>\n",
            "<class 'str'>\n"
          ]
        }
      ]
    },
    {
      "cell_type": "code",
      "source": [
        "#Write an example for different Python data types such as Number(Integer, Float, Complex), String, Boolean, List, Tuple, Set and Dictionary.\n",
        "\n",
        "c = 161399\n",
        "d = 7.897\n",
        "e = 5 + 8j\n",
        "s = \"Jyotsana Parkhedkar\"\n",
        "is_empty = False\n",
        "is_true = bool(1)\n",
        "list1 = [1,2,3,4,5]\n",
        "tuple = (10, 20,30)\n",
        "set = {a,b,c,40,50}\n",
        "dict = {\"name\":\"Jyotsana\",\"last_name\":\"Parkhedkar\"}\n",
        "\n",
        "print(type(c))\n",
        "print(type(d))\n",
        "print(type(e))\n",
        "print(type(s))\n",
        "print(type(is_empty))\n",
        "print(type(is_true))\n",
        "print(type(list1))\n",
        "print(type(tuple))\n",
        "print(type(set))\n",
        "print(type(dict))\n",
        "\n",
        "\n"
      ],
      "metadata": {
        "colab": {
          "base_uri": "https://localhost:8080/"
        },
        "id": "E25u3zXHbXaz",
        "outputId": "a05e2edd-d161-454a-89b8-c8ee301074ff"
      },
      "execution_count": 16,
      "outputs": [
        {
          "output_type": "stream",
          "name": "stdout",
          "text": [
            "<class 'int'>\n",
            "<class 'float'>\n",
            "<class 'complex'>\n",
            "<class 'str'>\n",
            "<class 'bool'>\n",
            "<class 'bool'>\n",
            "<class 'list'>\n",
            "<class 'tuple'>\n",
            "<class 'set'>\n",
            "<class 'dict'>\n"
          ]
        }
      ]
    },
    {
      "cell_type": "code",
      "source": [
        "#Find an Euclidian distance between (2, 3) and (10, 8)\n",
        "\n",
        "import math\n",
        "from math import sqrt\n",
        "x1,y1 = 2,3\n",
        "x2,y2 = 10,8\n",
        "\n",
        "dist = (x2 - x1) ** 2 + (y2 - y1) ** 2\n",
        "print(dist)\n",
        "\n",
        "print(\"Eucliean Distance = \", sqrt(dist))"
      ],
      "metadata": {
        "colab": {
          "base_uri": "https://localhost:8080/"
        },
        "id": "wEjlwhLobYgK",
        "outputId": "dfbccdd2-6b30-4a04-fccb-125e553cbb80"
      },
      "execution_count": 19,
      "outputs": [
        {
          "output_type": "stream",
          "name": "stdout",
          "text": [
            "89\n",
            "Eucliean Distance =  9.433981132056603\n"
          ]
        }
      ]
    }
  ]
}