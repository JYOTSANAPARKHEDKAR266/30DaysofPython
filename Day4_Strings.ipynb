{
  "nbformat": 4,
  "nbformat_minor": 0,
  "metadata": {
    "colab": {
      "provenance": [],
      "authorship_tag": "ABX9TyPjkUcSHZyJFKCoaMWHlA2k",
      "include_colab_link": true
    },
    "kernelspec": {
      "name": "python3",
      "display_name": "Python 3"
    },
    "language_info": {
      "name": "python"
    }
  },
  "cells": [
    {
      "cell_type": "markdown",
      "metadata": {
        "id": "view-in-github",
        "colab_type": "text"
      },
      "source": [
        "<a href=\"https://colab.research.google.com/github/JYOTSANAPARKHEDKAR266/30DaysofPython/blob/main/Day4_Strings.ipynb\" target=\"_parent\"><img src=\"https://colab.research.google.com/assets/colab-badge.svg\" alt=\"Open In Colab\"/></a>"
      ]
    },
    {
      "cell_type": "code",
      "execution_count": null,
      "metadata": {
        "colab": {
          "base_uri": "https://localhost:8080/"
        },
        "id": "QLBjxs4T2WZh",
        "outputId": "f8f307fb-d99c-4dcb-ca0b-ab7caa51ffd6"
      },
      "outputs": [
        {
          "output_type": "stream",
          "name": "stdout",
          "text": [
            "Thirty Days Of Python\n"
          ]
        }
      ],
      "source": [
        "#Concatenate the string 'Thirty', 'Days', 'Of', 'Python' to a single string, 'Thirty Days Of Python'.\n",
        "challenge = ['Thirty', 'Days', 'Of', 'Python']\n",
        "result = ' '.join(challenge)\n",
        "print(result)"
      ]
    },
    {
      "cell_type": "code",
      "source": [
        "#Concatenate the string 'Coding', 'For' , 'All' to a single string, 'Coding For All'.\n",
        "s1 = 'Coding'\n",
        "s2 = 'For'\n",
        "s3 = 'All'\n",
        "\n",
        "s = s1 + s2 + s3\n",
        "print(s)"
      ],
      "metadata": {
        "colab": {
          "base_uri": "https://localhost:8080/"
        },
        "id": "3gomAeOmPIgl",
        "outputId": "09e1f647-dce5-402a-c1f6-8f81332934ee"
      },
      "execution_count": null,
      "outputs": [
        {
          "output_type": "stream",
          "name": "stdout",
          "text": [
            "CodingForAll\n"
          ]
        }
      ]
    },
    {
      "cell_type": "code",
      "source": [
        "'''Declare a variable named company and assign it to an initial value \"Coding For All\".\n",
        "Print the variable company using print().\n",
        "Print the length of the company string using len() method and print().'''\n",
        "\n",
        "company = \"Coding For All\"\n",
        "print(company)\n",
        "print(len(company))"
      ],
      "metadata": {
        "colab": {
          "base_uri": "https://localhost:8080/"
        },
        "id": "IV9SaSvHPuw5",
        "outputId": "cf26c967-097e-4e33-84fa-43982c4202b6"
      },
      "execution_count": null,
      "outputs": [
        {
          "output_type": "stream",
          "name": "stdout",
          "text": [
            "Coding For All\n",
            "14\n"
          ]
        }
      ]
    },
    {
      "cell_type": "code",
      "source": [
        "'''Change all the characters to uppercase letters using upper() method.\n",
        "Change all the characters to lowercase letters using lower() method.\n",
        "Use capitalize(), title(), swapcase() methods to format the value of the string Coding For All.'''\n",
        "\n",
        "company =  \"Coding For All\"\n",
        "print(company.upper())                            #converts all characters to uppercase\n",
        "print(company.lower())                            #coverts all characters to lowercase\n",
        "print(company.capitalize())                       #converts first character of the string to capital letter\n",
        "print(company.title())                            #converts first character of the string to capital letter\n",
        "print(company.swapcase())                         #swaps the case of all the characters"
      ],
      "metadata": {
        "colab": {
          "base_uri": "https://localhost:8080/"
        },
        "id": "eTVAvBxOQHX5",
        "outputId": "dedccb2b-af2e-4b1c-8934-95b4730501b6"
      },
      "execution_count": null,
      "outputs": [
        {
          "output_type": "stream",
          "name": "stdout",
          "text": [
            "CODING FOR ALL\n",
            "coding for all\n",
            "Coding for all\n",
            "Coding For All\n",
            "cODING fOR aLL\n"
          ]
        }
      ]
    },
    {
      "cell_type": "code",
      "source": [
        "#Cut(slice) out the first word of Coding For All string.\n",
        "\n",
        "company =  \"Coding For All\"\n",
        "print(company[0:6])"
      ],
      "metadata": {
        "colab": {
          "base_uri": "https://localhost:8080/"
        },
        "id": "bjFzVZLpRW_9",
        "outputId": "a742a23c-97f7-4ef0-a6d7-110e0658cf43"
      },
      "execution_count": null,
      "outputs": [
        {
          "output_type": "stream",
          "name": "stdout",
          "text": [
            "Coding\n"
          ]
        }
      ]
    },
    {
      "cell_type": "code",
      "source": [
        "#Check if Coding For All string contains a word Coding using the method index, find or other methods.\n",
        "company =  \"Coding For All\"\n",
        "print(company.find('Coding'))                     #returns index of first occurrence\n",
        "print(company.index(\"Coding\"))                    #returns index of first occurrence"
      ],
      "metadata": {
        "colab": {
          "base_uri": "https://localhost:8080/"
        },
        "id": "fYxB3PbZRs1T",
        "outputId": "4d4a160d-4245-4463-b3cf-c2bfdb65f23a"
      },
      "execution_count": null,
      "outputs": [
        {
          "output_type": "stream",
          "name": "stdout",
          "text": [
            "0\n",
            "0\n"
          ]
        }
      ]
    },
    {
      "cell_type": "code",
      "source": [
        "'''Replace the word coding in the string 'Coding For All' to Python.\n",
        "Change Python for Everyone to Python for All using the replace method or other methods.'''\n",
        "\n",
        "company = \"Coding For All\"\n",
        "print(company.replace('Coding','Python'))                #replaces substring with a given string\n",
        "\n",
        "string =\"Python for everyone\"\n",
        "print(string.replace(\"everyone\",\"All\"))"
      ],
      "metadata": {
        "colab": {
          "base_uri": "https://localhost:8080/"
        },
        "id": "loq5C4VBR0Rx",
        "outputId": "ab28463c-4c9a-45e3-c3f1-7179909c3835"
      },
      "execution_count": null,
      "outputs": [
        {
          "output_type": "stream",
          "name": "stdout",
          "text": [
            "Python For All\n",
            "Python for All\n"
          ]
        }
      ]
    },
    {
      "cell_type": "code",
      "source": [
        "'''Split the string 'Coding For All' using space as the separator (split()) .\n",
        "\"Facebook, Google, Microsoft, Apple, IBM, Oracle, Amazon\" split the string at the comma.'''\n",
        "\n",
        "company = \"Coding For All\"\n",
        "print(company.split())                                  #splits the string using given substring or space\n",
        "\n",
        "string = \"Facebook, Google, Microsoft, Apple, IBM, Oracle, Amazon\"\n",
        "print(string.split(','))"
      ],
      "metadata": {
        "colab": {
          "base_uri": "https://localhost:8080/"
        },
        "id": "Jf0CO3LXTaCv",
        "outputId": "a90a7c52-4bbd-49af-b7b1-8da58700f054"
      },
      "execution_count": null,
      "outputs": [
        {
          "output_type": "stream",
          "name": "stdout",
          "text": [
            "['Coding', 'For', 'All']\n",
            "['Facebook', ' Google', ' Microsoft', ' Apple', ' IBM', ' Oracle', ' Amazon']\n"
          ]
        }
      ]
    },
    {
      "cell_type": "code",
      "source": [
        "'''What is the character at index 0 in the string Coding For All.\n",
        "What is the last index of the string Coding For All.\n",
        "What character is at index 10 in \"Coding For All\" string.'''\n",
        "\n",
        "company = \"Coding For All\"\n",
        "print(company[0])               #character at 0th index\n",
        "print(company[-1])              #character at last index\n",
        "print(company[10])              #character at 10th index\n",
        "print(len(company) -1 )         #index position of last character"
      ],
      "metadata": {
        "colab": {
          "base_uri": "https://localhost:8080/"
        },
        "id": "pAl5GaxlWXqG",
        "outputId": "be553001-d4c2-4e49-a816-37a046e3939e"
      },
      "execution_count": null,
      "outputs": [
        {
          "output_type": "stream",
          "name": "stdout",
          "text": [
            "C\n",
            "l\n",
            " \n",
            "13\n"
          ]
        }
      ]
    },
    {
      "cell_type": "code",
      "source": [
        "'''Create an acronym or an abbreviation for the name 'Python For Everyone'.\n",
        "Create an acronym or an abbreviation for the name 'Coding For All'.'''\n",
        "\n",
        "phrase1 = \"Python For Everyone\"\n",
        "phrase2 = \"Coding For All\"\n",
        "\n",
        "acronym1 = phrase1[0] + phrase1[7] + phrase1[11]\n",
        "acronym2 = phrase2[0] + phrase2[7] + phrase2[11]\n",
        "\n",
        "print(acronym1.upper())\n",
        "print(acronym2.upper())"
      ],
      "metadata": {
        "colab": {
          "base_uri": "https://localhost:8080/"
        },
        "id": "QJ9GPQ9zYb9d",
        "outputId": "42222795-b927-4877-e308-af8f9b1d554d"
      },
      "execution_count": null,
      "outputs": [
        {
          "output_type": "stream",
          "name": "stdout",
          "text": [
            "PFE\n",
            "CFA\n"
          ]
        }
      ]
    },
    {
      "cell_type": "code",
      "source": [
        "'''Use index to determine the position of the first occurrence of C in Coding For All.\n",
        "Use index to determine the position of the first occurrence of F in Coding For All.\n",
        "Use rfind to determine the position of the last occurrence of l in Coding For All People.'''\n",
        "\n",
        "company = \"Coding For All\"\n",
        "print(company.index('C'))           #returns index of a substring\n",
        "print(company.find('F'))            #returns index of first occurence of a substring\n",
        "print(company.rfind('l'))           #returns index of last occurence of a substring\n"
      ],
      "metadata": {
        "colab": {
          "base_uri": "https://localhost:8080/"
        },
        "id": "L-WYMRfXZMCG",
        "outputId": "3392648b-56b4-4230-822a-4d66199fed09"
      },
      "execution_count": null,
      "outputs": [
        {
          "output_type": "stream",
          "name": "stdout",
          "text": [
            "0\n",
            "7\n",
            "13\n"
          ]
        }
      ]
    },
    {
      "cell_type": "code",
      "source": [
        "'''Use index or find to find the position of the first occurrence of the word 'because' in the following sentence: 'You cannot end a sentence with because because because is a conjunction'\n",
        "Use rindex to find the position of the last occurrence of the word because in the following sentence: 'You cannot end a sentence with because because because is a conjunction'''\n",
        "\n",
        "string = 'You cannot end a sentence with because because because is a conjunction'\n",
        "print(string.find('because'))\n",
        "\n",
        "print(string.rindex(\"because\"))"
      ],
      "metadata": {
        "colab": {
          "base_uri": "https://localhost:8080/"
        },
        "id": "mhyff5RNaOOM",
        "outputId": "e0b059be-ce7a-46c9-e3fc-e3470eb2a817"
      },
      "execution_count": null,
      "outputs": [
        {
          "output_type": "stream",
          "name": "stdout",
          "text": [
            "31\n",
            "47\n"
          ]
        }
      ]
    },
    {
      "cell_type": "code",
      "source": [
        "#Slice out the phrase 'because because because' in the following sentence: 'You cannot end a sentence with because because because is a conjunction'\n",
        "\n",
        "string = 'You cannot end a sentence with because because because is a conjunction'\n",
        "print(string.find(\"because\"))\n",
        "print(string.rfind(\"is\"))\n",
        "\n",
        "print(string[31:55])            #slicing does not include lst index"
      ],
      "metadata": {
        "colab": {
          "base_uri": "https://localhost:8080/"
        },
        "id": "hCTqMOJLayo_",
        "outputId": "348954a7-6fdf-4bf9-cfab-0bfd18e16b02"
      },
      "execution_count": null,
      "outputs": [
        {
          "output_type": "stream",
          "name": "stdout",
          "text": [
            "31\n",
            "55\n",
            "because because because \n"
          ]
        }
      ]
    },
    {
      "cell_type": "code",
      "source": [
        "'''Does ''Coding For All' start with a substring Coding?\n",
        "Does 'Coding For All' end with a substring coding?'''\n",
        "\n",
        "string = \"Coding For All\"\n",
        "print(string.startswith(\"Coding\"))         #checks if the string starts with a specified start\n",
        "print(string.endswith(\"All\"))              #checks if the string ends with a specified end\n"
      ],
      "metadata": {
        "colab": {
          "base_uri": "https://localhost:8080/"
        },
        "id": "g807vjl-a6kQ",
        "outputId": "63e1720d-5f10-40d2-87ff-37beed724476"
      },
      "execution_count": null,
      "outputs": [
        {
          "output_type": "stream",
          "name": "stdout",
          "text": [
            "True\n",
            "True\n"
          ]
        }
      ]
    },
    {
      "cell_type": "code",
      "source": [
        "#'   Coding For All      '  , remove the left and right trailing spaces in the given string.\n",
        "\n",
        "text = '   Coding For All      '\n",
        "print(text.strip())               #removes blank spaces"
      ],
      "metadata": {
        "colab": {
          "base_uri": "https://localhost:8080/"
        },
        "id": "B-nrGqEBcYF8",
        "outputId": "b96c3284-5bb6-4bca-ee16-0632f456eb60"
      },
      "execution_count": null,
      "outputs": [
        {
          "output_type": "stream",
          "name": "stdout",
          "text": [
            "Coding For All\n"
          ]
        }
      ]
    },
    {
      "cell_type": "code",
      "source": [
        "'''Which one of the following variables return True when we use the method isidentifier():\n",
        "30DaysOfPython\n",
        "thirty_days_of_python'''\n",
        "\n",
        "string1 = \"30DaysOfPython\"\n",
        "string2 = \"thirty_days_of_python\"\n",
        "\n",
        "print(string1.isidentifier())         #checks if string is a valid identifier, meaning it can be used as a variable name, function name, or class name in Python.\n",
        "print(string2.isidentifier())"
      ],
      "metadata": {
        "colab": {
          "base_uri": "https://localhost:8080/"
        },
        "id": "vYdE1RaAc9ce",
        "outputId": "f4bf781b-0c95-4dd9-ae4e-bda4b3111573"
      },
      "execution_count": null,
      "outputs": [
        {
          "output_type": "stream",
          "name": "stdout",
          "text": [
            "False\n",
            "True\n"
          ]
        }
      ]
    },
    {
      "cell_type": "code",
      "source": [
        "#The following list contains the names of some of python libraries: ['Django', 'Flask', 'Bottle', 'Pyramid', 'Falcon']. Join the list with a hash with space string.\n",
        "\n",
        "libraries =  ['Django', 'Flask', 'Bottle', 'Pyramid', 'Falcon']\n",
        "result = \" \".join(libraries)\n",
        "print(result)"
      ],
      "metadata": {
        "colab": {
          "base_uri": "https://localhost:8080/"
        },
        "id": "RdtEK5qZdZjK",
        "outputId": "b0568443-d506-4cf4-dc76-be99a6ec146b"
      },
      "execution_count": null,
      "outputs": [
        {
          "output_type": "stream",
          "name": "stdout",
          "text": [
            "Django Flask Bottle Pyramid Falcon\n"
          ]
        }
      ]
    },
    {
      "cell_type": "code",
      "source": [
        "'''Use the new line escape sequence to separate the following sentences.\n",
        "I am enjoying this challenge.\n",
        "I just wonder what is next.'''\n",
        "\n",
        "print(\"I am enjoying this challenge.\\nI just wonder what is next.\")"
      ],
      "metadata": {
        "colab": {
          "base_uri": "https://localhost:8080/"
        },
        "id": "24U6b5cNd0zp",
        "outputId": "c199c908-a742-41d4-c81a-b21154e0c038"
      },
      "execution_count": null,
      "outputs": [
        {
          "output_type": "stream",
          "name": "stdout",
          "text": [
            "I am enjoying this challenge.\n",
            "I just wonder what is next.\n"
          ]
        }
      ]
    },
    {
      "cell_type": "code",
      "source": [
        "'''Use a tab escape sequence to write the following lines.\n",
        "Name      Age     Country   City\n",
        "Asabeneh  250     Finland   Helsinki'''\n",
        "\n",
        "print(\"Name\\tAge\\tCountry\\tCity\")\n",
        "print(\"Asabeneh\\t250\\tFinland\\tHelsinki\")"
      ],
      "metadata": {
        "colab": {
          "base_uri": "https://localhost:8080/"
        },
        "id": "6SkDmFRgeRQi",
        "outputId": "0f9fa843-5933-4ae2-aeb5-748cb439691c"
      },
      "execution_count": null,
      "outputs": [
        {
          "output_type": "stream",
          "name": "stdout",
          "text": [
            "Name\tAge\tCountry\tCity\n",
            "Asabeneh\t250\tFinland\tHelsinki\n"
          ]
        }
      ]
    },
    {
      "cell_type": "code",
      "source": [
        "'''Use the string formatting method to display the following:\n",
        "radius = 10\n",
        "area = 3.14 * radius ** 2\n",
        "The area of a circle with radius 10 is 314 meters square.'''\n",
        "\n",
        "radius = 10\n",
        "\n",
        "area = 3.14 * radius ** 2\n",
        "\n",
        "print(\"The area of a circle with radius %d is %d meters square\"%(radius, area))     #old formatting style\n"
      ],
      "metadata": {
        "colab": {
          "base_uri": "https://localhost:8080/"
        },
        "id": "ZPvIoDnze5UJ",
        "outputId": "8b389ebc-9131-49b3-ef7c-9dd76f48db43"
      },
      "execution_count": null,
      "outputs": [
        {
          "output_type": "stream",
          "name": "stdout",
          "text": [
            "The area of a circle with radius 10 is 314 meters square\n"
          ]
        }
      ]
    },
    {
      "cell_type": "code",
      "source": [
        "'''ake the following using string formatting methods:\n",
        "8 + 6 = 14\n",
        "8 - 6 = 2\n",
        "8 * 6 = 48\n",
        "8 / 6 = 1.33\n",
        "8 % 6 = 2\n",
        "8 // 6 = 1\n",
        "8 ** 6 = 262144'''\n",
        "\n",
        "a = 8\n",
        "b = 6\n",
        "\n",
        "print(\"{} + {} = {}\".format(a,b,a+b))\n",
        "print(\"{} - {} = {}\".format(a,b,a-b))\n",
        "print(\"{} * {} = {}\".format(a,b,a*b))\n",
        "print(\"{} / {} = {}\".format(a,b,a/b))\n",
        "print(\"{} % {} = {}\".format(a,b,a%b))\n",
        "print(\"{} // {} = {}\".format(a,b,a//b))\n",
        "print(\"{} ** {} = {}\".format(a,b,a**b))"
      ],
      "metadata": {
        "id": "eErooErCf3en",
        "colab": {
          "base_uri": "https://localhost:8080/"
        },
        "outputId": "67d54151-40a1-4209-a656-bbe2eda3b9f6"
      },
      "execution_count": 64,
      "outputs": [
        {
          "output_type": "stream",
          "name": "stdout",
          "text": [
            "8 + 6 = 14\n",
            "8 - 6 = 2\n",
            "8 * 6 = 48\n",
            "8 / 6 = 1.3333333333333333\n",
            "8 % 6 = 2\n",
            "8 // 6 = 1\n",
            "8 ** 6 = 262144\n"
          ]
        }
      ]
    }
  ]
}