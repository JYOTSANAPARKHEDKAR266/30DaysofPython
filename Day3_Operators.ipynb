{
  "nbformat": 4,
  "nbformat_minor": 0,
  "metadata": {
    "colab": {
      "provenance": [],
      "authorship_tag": "ABX9TyP7x/WjRycp6+rNs0L/MCpq",
      "include_colab_link": true
    },
    "kernelspec": {
      "name": "python3",
      "display_name": "Python 3"
    },
    "language_info": {
      "name": "python"
    }
  },
  "cells": [
    {
      "cell_type": "markdown",
      "metadata": {
        "id": "view-in-github",
        "colab_type": "text"
      },
      "source": [
        "<a href=\"https://colab.research.google.com/github/JYOTSANAPARKHEDKAR266/30DaysofPython/blob/main/Day3_Operators.ipynb\" target=\"_parent\"><img src=\"https://colab.research.google.com/assets/colab-badge.svg\" alt=\"Open In Colab\"/></a>"
      ]
    },
    {
      "cell_type": "code",
      "execution_count": null,
      "metadata": {
        "id": "UnLm1zygasRf"
      },
      "outputs": [],
      "source": [
        "'''Declare your age as integer variable\n",
        "Declare your height as a float variable\n",
        "Declare a variable that store a complex number'''\n",
        "\n",
        "age = 100\n",
        "height = 5.2\n",
        "c = 3 + 4j\n"
      ]
    },
    {
      "cell_type": "code",
      "source": [
        "#Write a script that prompts the user to enter base and height of the triangle and calculate an area of this triangle (area = 0.5 x b x h).\n",
        "\n",
        "base = int(input(\"The base of triangle: \"))\n",
        "height = int(input(\"The height of the triangle: \"))\n",
        "\n",
        "area = 0.5 * base * height\n",
        "print(\"The area of triangle : \", area)\n"
      ],
      "metadata": {
        "colab": {
          "base_uri": "https://localhost:8080/"
        },
        "id": "DM6x_XkobMTc",
        "outputId": "76cf0ed8-80c5-496f-f478-83859c4c833a"
      },
      "execution_count": null,
      "outputs": [
        {
          "output_type": "stream",
          "name": "stdout",
          "text": [
            "The base of triangle: 20\n",
            "The height of the triangle: 5\n",
            "The area of triangle :  50.0\n"
          ]
        }
      ]
    },
    {
      "cell_type": "code",
      "source": [
        "#Write a script that prompts the user to enter side a, side b, and side c of the triangle. Calculate the perimeter of the triangle (perimeter = a + b + c).\n",
        "\n",
        "side_a = int(input(\"Side1 of the triangle: \"))\n",
        "side_b = int(input(\"Side2 of the triangle: \"))\n",
        "side_c = int(input(\"Side3 of the triangle: \"))\n",
        "\n",
        "perimeter = side_a + side_b + side_c\n",
        "print(\"The perimeter of triangle : \", perimeter)\n",
        "\n"
      ],
      "metadata": {
        "colab": {
          "base_uri": "https://localhost:8080/"
        },
        "id": "suk1jHxacLnK",
        "outputId": "b700121f-f70c-455a-cf4d-40f03669cf37"
      },
      "execution_count": null,
      "outputs": [
        {
          "output_type": "stream",
          "name": "stdout",
          "text": [
            "Side1 of the triangle: 3\n",
            "Side2 of the triangle: 7\n",
            "Side3 of the triangle: 9\n",
            "The perimeter of triangle :  19\n"
          ]
        }
      ]
    },
    {
      "cell_type": "code",
      "source": [
        "#Get length and width of a rectangle using prompt. Calculate its area (area = length x width) and perimeter (perimeter = 2 x (length + width))\n",
        "\n",
        "length = int(input(\"The length of the rectangle: \"))\n",
        "width = int(input(\"The width of the rectangle: \"))\n",
        "\n",
        "area = length * width\n",
        "print(\"The area of the rectangle: \", area)\n",
        "\n",
        "perimeter = 2 * (length + width)\n",
        "print(\"The perimeter of the rectangle: \", perimeter)"
      ],
      "metadata": {
        "colab": {
          "base_uri": "https://localhost:8080/"
        },
        "id": "e1B8pk9fc3n-",
        "outputId": "749700dc-ce31-4c0f-b580-adf1c4c7452c"
      },
      "execution_count": null,
      "outputs": [
        {
          "output_type": "stream",
          "name": "stdout",
          "text": [
            "The length of the rectangle: 10\n",
            "The width of the rectangle: 5\n",
            "The area of the rectangle:  50\n",
            "The perimeter of the rectangle:  30\n"
          ]
        }
      ]
    },
    {
      "cell_type": "code",
      "source": [
        "#Get radius of a circle using prompt. Calculate the area (area = pi x r x r) and circumference (c = 2 x pi x r) where pi = 3.14.\n",
        "\n",
        "pi = 3.14\n",
        "r = int(input(\"The radius of the circle: \"))\n",
        "\n",
        "area = pi * r * r\n",
        "print(\"The area of the circle: \",area)\n",
        "\n",
        "circumference = 2 * pi * r\n",
        "print(\"The circumference of the circle: \", circumference)\n"
      ],
      "metadata": {
        "colab": {
          "base_uri": "https://localhost:8080/"
        },
        "id": "dT2IkfCui-AF",
        "outputId": "ec4567cd-c526-473b-a63e-f2f44b8a55c6"
      },
      "execution_count": null,
      "outputs": [
        {
          "output_type": "stream",
          "name": "stdout",
          "text": [
            "The radius of the circle: 5\n",
            "The area of the circle:  78.5\n",
            "The circumference of the circle:  31.400000000000002\n"
          ]
        }
      ]
    },
    {
      "cell_type": "code",
      "source": [
        "#Calculate the slope, x-intercept and y-intercept of y = 2x -2\n",
        "\n",
        "# Equation of the line: y = mx + c\n",
        "m = 2           # slope\n",
        "c = -2          # y-intercept\n",
        "\n",
        "# x-intercept: set y = 0 => 0 = m*x + c => x = -c/m\n",
        "x_intercept = -c / m\n",
        "y_intercept = c\n",
        "\n",
        "print(f\"Slope: {m}\")\n",
        "print(f\"x-intercept: {x_intercept}\")\n",
        "print(f\"y-intercept: {y_intercept}\")"
      ],
      "metadata": {
        "id": "D-WqZstpqhOz",
        "colab": {
          "base_uri": "https://localhost:8080/"
        },
        "outputId": "24ac2bbf-c7b3-4105-b09e-90a99d405f46"
      },
      "execution_count": 29,
      "outputs": [
        {
          "output_type": "stream",
          "name": "stdout",
          "text": [
            "Slope: 2\n",
            "x-intercept: 1.0\n",
            "y-intercept: -2\n"
          ]
        }
      ]
    },
    {
      "cell_type": "code",
      "source": [
        "#Slope is (m = y2-y1/x2-x1). Find the slope and Euclidean distance between point (2, 2) and point (6,10)\n",
        "\n",
        "import math\n",
        "from math import sqrt\n",
        "\n",
        "x1 = 2\n",
        "y1 = 2\n",
        "x2 = 6\n",
        "y2 = 10\n",
        "\n",
        "slope_m = (y2 - y1) / (x2 - x1)\n",
        "print(\"The slope m is :\",slope_m)\n",
        "\n",
        "dist = (x2 - x1) ** 2 + (y2 - y1) ** 2\n",
        "\n",
        "euclidean_dist = sqrt(dist)\n",
        "print(\"The Euclidean distance is \", euclidean_dist)\n"
      ],
      "metadata": {
        "colab": {
          "base_uri": "https://localhost:8080/"
        },
        "id": "3LKG3Rv08QDq",
        "outputId": "fd2e34cf-0105-4ce4-e73a-e140afd5cbf6"
      },
      "execution_count": 2,
      "outputs": [
        {
          "output_type": "stream",
          "name": "stdout",
          "text": [
            "The slope m is : 2.0\n",
            "The Euclidean distance is  8.94427190999916\n"
          ]
        }
      ]
    },
    {
      "cell_type": "code",
      "source": [
        "#Find the length of 'python' and 'dragon' and make a falsy comparison statement.\n",
        "\n",
        "print(len('python') > len('dragon'))\n",
        "\n",
        "print(len('python') == len('dragon'))\n"
      ],
      "metadata": {
        "colab": {
          "base_uri": "https://localhost:8080/"
        },
        "id": "oDMU1bey-DoW",
        "outputId": "eda87980-43dd-4b9f-a5fe-25e37f67baa1"
      },
      "execution_count": 6,
      "outputs": [
        {
          "output_type": "stream",
          "name": "stdout",
          "text": [
            "False\n",
            "True\n"
          ]
        }
      ]
    },
    {
      "cell_type": "code",
      "source": [
        "#Use and operator to check if 'on' is found in both 'python' and 'dragon'\n",
        "\n",
        "print('on' in 'python' and 'on' in 'dragon')\n"
      ],
      "metadata": {
        "colab": {
          "base_uri": "https://localhost:8080/"
        },
        "id": "bHtchVmQ-FGf",
        "outputId": "9619c968-8ae6-4848-fb89-7b05364a1794"
      },
      "execution_count": 8,
      "outputs": [
        {
          "output_type": "stream",
          "name": "stdout",
          "text": [
            "True\n"
          ]
        }
      ]
    },
    {
      "cell_type": "code",
      "source": [
        "#I hope this course is not full of jargon. Use in operator to check if jargon is in the sentence.\n",
        "\n",
        "print('jargon' in 'I hope this course is not full of jargon')\n"
      ],
      "metadata": {
        "colab": {
          "base_uri": "https://localhost:8080/"
        },
        "id": "DV0gKNMb_IYl",
        "outputId": "009e2400-2398-42e0-dd8b-61a43b2b4ec2"
      },
      "execution_count": 9,
      "outputs": [
        {
          "output_type": "stream",
          "name": "stdout",
          "text": [
            "True\n"
          ]
        }
      ]
    },
    {
      "cell_type": "code",
      "source": [
        "#There is no 'on' in both dragon and python\n",
        "\n",
        "print('on' not in 'dragon' and 'python')\n"
      ],
      "metadata": {
        "colab": {
          "base_uri": "https://localhost:8080/"
        },
        "id": "HZsudkf2_zJZ",
        "outputId": "683b43e9-1ac2-407c-8f24-5f4632ee5e7f"
      },
      "execution_count": 12,
      "outputs": [
        {
          "output_type": "stream",
          "name": "stdout",
          "text": [
            "False\n"
          ]
        }
      ]
    },
    {
      "cell_type": "code",
      "source": [
        "#Find the length of the text python and convert the value to float and convert it to string\n",
        "\n",
        "length = len('python')        # 6\n",
        "length_float = float(length)  # 6.0\n",
        "length_str = str(length_float)  # '6.0'\n",
        "\n",
        "print(length_float)  # 6.0\n",
        "print(length_str)    # '6.0'\n"
      ],
      "metadata": {
        "colab": {
          "base_uri": "https://localhost:8080/"
        },
        "id": "_mn_aMY6AXSq",
        "outputId": "f75d8a4e-f00b-4bd9-f3ae-83238ce9c49f"
      },
      "execution_count": 18,
      "outputs": [
        {
          "output_type": "stream",
          "name": "stdout",
          "text": [
            "6.0\n",
            "6.0\n"
          ]
        }
      ]
    },
    {
      "cell_type": "code",
      "source": [
        "#Even numbers are divisible by 2 and the remainder is zero. How do you check if a number is even or not using python?\n",
        "\n",
        "num = int(input(\"Input a number: \"))\n",
        "\n",
        "if num/2 == 0:\n",
        "  print(\"It's a even number\")\n",
        "else:\n",
        "  print(\"It's a odd number\")"
      ],
      "metadata": {
        "colab": {
          "base_uri": "https://localhost:8080/"
        },
        "id": "2ThAnam7DFhC",
        "outputId": "30f7554b-16ad-4807-e805-d647a5e3e198"
      },
      "execution_count": 19,
      "outputs": [
        {
          "output_type": "stream",
          "name": "stdout",
          "text": [
            "Input a number: 5\n",
            "It's a odd number\n"
          ]
        }
      ]
    },
    {
      "cell_type": "code",
      "source": [
        "#Check if the floor division of 7 by 3 is equal to the int converted value of 2.7.\n",
        "\n",
        "div = 7 // 3\n",
        "num = int(2.7)\n",
        "\n",
        "print(div == num)"
      ],
      "metadata": {
        "colab": {
          "base_uri": "https://localhost:8080/"
        },
        "id": "iwauNIJSQpfZ",
        "outputId": "fae19113-2ff2-4148-a4a9-e4b4efb985bf"
      },
      "execution_count": 21,
      "outputs": [
        {
          "output_type": "stream",
          "name": "stdout",
          "text": [
            "True\n"
          ]
        }
      ]
    },
    {
      "cell_type": "code",
      "source": [
        "#Check if type of '10' is equal to type of 10\n",
        "\n",
        "s = type('10')\n",
        "p = type(10)\n",
        "\n",
        "print(s == p)"
      ],
      "metadata": {
        "colab": {
          "base_uri": "https://localhost:8080/"
        },
        "id": "PiUD-dsNRUcW",
        "outputId": "29758145-c4b6-4e46-9ce8-d416e5e43594"
      },
      "execution_count": 22,
      "outputs": [
        {
          "output_type": "stream",
          "name": "stdout",
          "text": [
            "False\n"
          ]
        }
      ]
    },
    {
      "cell_type": "code",
      "source": [
        "#Check if int('9.8') is equal to 10\n",
        "\n",
        "i = int(9.8)\n",
        "j = 10\n",
        "\n",
        "print(i == j)"
      ],
      "metadata": {
        "colab": {
          "base_uri": "https://localhost:8080/"
        },
        "id": "wNoL6feaRpGe",
        "outputId": "bde9ab6b-e9c9-4f11-da45-e7abb4918cb3"
      },
      "execution_count": 23,
      "outputs": [
        {
          "output_type": "stream",
          "name": "stdout",
          "text": [
            "False\n"
          ]
        }
      ]
    },
    {
      "cell_type": "code",
      "source": [
        "#rit a script that prompts the user to enter hours and rate per hour. Calculate pay of the person?\n",
        "\n",
        "hours = float(input(\"Enter number of hours: \"))\n",
        "rate = float(input(\"Enter rate per hour:\"))\n",
        "\n",
        "pay = hours * rate\n",
        "print(\"Total Pay is: \", pay)\n"
      ],
      "metadata": {
        "colab": {
          "base_uri": "https://localhost:8080/"
        },
        "id": "jk84u2zPR2XA",
        "outputId": "896bce80-5f27-4d6a-a772-63037ef433ae"
      },
      "execution_count": 27,
      "outputs": [
        {
          "output_type": "stream",
          "name": "stdout",
          "text": [
            "Enter number of hours: 35.5\n",
            "Enter rate per hour:16.5\n",
            "Total Pay is:  585.75\n"
          ]
        }
      ]
    },
    {
      "cell_type": "code",
      "source": [
        "#Write a script that prompts the user to enter number of years. Calculate the number of seconds a person can live. Assume a person can live hundred years\n",
        "\n",
        "years = int(input(\"Number of years: \"))\n",
        "\n",
        "seconds = years * 365 * 24 * 60 * 60\n",
        "print(\"The number of seconds lived: \", seconds)"
      ],
      "metadata": {
        "colab": {
          "base_uri": "https://localhost:8080/"
        },
        "id": "dLhvf4qFSzEA",
        "outputId": "8284c854-c0bf-4634-89c3-fdd3031a845f"
      },
      "execution_count": 28,
      "outputs": [
        {
          "output_type": "stream",
          "name": "stdout",
          "text": [
            "Number of years: 100\n",
            "The number of seconds lived:  3153600000\n"
          ]
        }
      ]
    }
  ]
}