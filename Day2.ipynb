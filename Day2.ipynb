{
  "nbformat": 4,
  "nbformat_minor": 0,
  "metadata": {
    "colab": {
      "provenance": [],
      "authorship_tag": "ABX9TyM3/TVyC0mqbPaDJEKZZa6M",
      "include_colab_link": true
    },
    "kernelspec": {
      "name": "python3",
      "display_name": "Python 3"
    },
    "language_info": {
      "name": "python"
    }
  },
  "cells": [
    {
      "cell_type": "markdown",
      "metadata": {
        "id": "view-in-github",
        "colab_type": "text"
      },
      "source": [
        "<a href=\"https://colab.research.google.com/github/JYOTSANAPARKHEDKAR266/30DaysofPython/blob/main/Day2.ipynb\" target=\"_parent\"><img src=\"https://colab.research.google.com/assets/colab-badge.svg\" alt=\"Open In Colab\"/></a>"
      ]
    },
    {
      "cell_type": "code",
      "execution_count": null,
      "metadata": {
        "id": "odPtUgel1Aen"
      },
      "outputs": [],
      "source": [
        "#Write a python comment saying 'Day 2: 30 Days of python programming'\n",
        "\n",
        "#Day 2: 30 Days of python programming"
      ]
    },
    {
      "cell_type": "code",
      "source": [
        "'''Declare a first name variable and assign a value to it\n",
        "Declare a last name variable and assign a value to it\n",
        "Declare a full name variable and assign a value to it\n",
        "Declare a country variable and assign a value to it\n",
        "Declare a city variable and assign a value to it\n",
        "Declare an age variable and assign a value to it\n",
        "Declare a year variable and assign a value to it'''\n",
        "\n",
        "first_name = \"Jyotsana\"\n",
        "full_name = \"Jyotsana Parkhedkar\"\n",
        "country = \"India\"\n",
        "city = \"New York\"\n",
        "age = 100\n",
        "year = 2025\n"
      ],
      "metadata": {
        "id": "9dORjGHZ1taI"
      },
      "execution_count": 2,
      "outputs": []
    },
    {
      "cell_type": "code",
      "source": [
        "'''Declare a variable is_married and assign a value to it\n",
        "Declare a variable is_true and assign a value to it\n",
        "Declare a variable is_light_on and assign a value to it\n",
        "Declare multiple variable on one line'''\n",
        "\n",
        "is_married = bool(\"No\")\n",
        "is_true = bool(\"yes\")\n",
        "is_light_on = True\n",
        "\n",
        "a , b, c = 2, 3, 4"
      ],
      "metadata": {
        "id": "HpT7e1Q62LM-"
      },
      "execution_count": 1,
      "outputs": []
    },
    {
      "cell_type": "code",
      "source": [
        "#Check the data type of all your variables using type() built-in function\n",
        "\n",
        "first_name = \"Jyotsana\"\n",
        "full_name = \"Jyotsana Parkhedkar\"\n",
        "country = \"India\"\n",
        "city = \"New York\"\n",
        "age = 100\n",
        "year = 2025\n",
        "\n",
        "is_married = bool(\"No\")\n",
        "is_true = bool(\"yes\")\n",
        "is_light_on = True\n",
        "\n",
        "print(type(first_name))\n",
        "print(type(full_name))\n",
        "print(type(country))\n",
        "print(type(city))\n",
        "print(type(age))\n",
        "print(type(year))\n",
        "\n",
        "print(type(is_married))\n",
        "print(type(is_true))\n",
        "print(type(is_light_on))\n"
      ],
      "metadata": {
        "colab": {
          "base_uri": "https://localhost:8080/"
        },
        "id": "He6deTfzXUgD",
        "outputId": "5cc9580c-2be0-4280-f09e-0f98a54fd6f3"
      },
      "execution_count": 4,
      "outputs": [
        {
          "output_type": "stream",
          "name": "stdout",
          "text": [
            "<class 'str'>\n",
            "<class 'str'>\n",
            "<class 'str'>\n",
            "<class 'str'>\n",
            "<class 'int'>\n",
            "<class 'int'>\n",
            "<class 'bool'>\n",
            "<class 'bool'>\n",
            "<class 'bool'>\n"
          ]
        }
      ]
    },
    {
      "cell_type": "code",
      "source": [
        "#Using the len() built-in function, find the length of your first name\n",
        "print(len(first_name))\n"
      ],
      "metadata": {
        "colab": {
          "base_uri": "https://localhost:8080/"
        },
        "id": "rQiYXnalXVkq",
        "outputId": "d55bc591-5d7a-47ac-f02f-fef218a45074"
      },
      "execution_count": 5,
      "outputs": [
        {
          "output_type": "stream",
          "name": "stdout",
          "text": [
            "8\n"
          ]
        }
      ]
    },
    {
      "cell_type": "code",
      "source": [
        "#Compare the length of your first name and your last name\n",
        "first_name = \"Jyotsana\"\n",
        "last_name = \"Parkhedkar\"\n",
        "f = len(first_name)\n",
        "l = len(last_name)\n",
        "\n",
        "print(f)\n",
        "print(l)\n",
        "\n",
        "if f > l:\n",
        "  print(\"Length of first name is greater\")\n",
        "elif l > f:\n",
        "  print(\"Length of last name is greater\")\n",
        "else:\n",
        "  print(\"Both are of same length\")\n",
        "\n"
      ],
      "metadata": {
        "colab": {
          "base_uri": "https://localhost:8080/"
        },
        "id": "W8BjOlONYf9z",
        "outputId": "667b44cd-059d-45eb-8248-62e603da4f8a"
      },
      "execution_count": 15,
      "outputs": [
        {
          "output_type": "stream",
          "name": "stdout",
          "text": [
            "8\n",
            "10\n",
            "Length of last name is greater\n"
          ]
        }
      ]
    },
    {
      "cell_type": "code",
      "source": [
        "'''Declare 5 as num_one and 4 as num_two\n",
        "Add num_one and num_two and assign the value to a variable total\n",
        "Subtract num_two from num_one and assign the value to a variable diff\n",
        "Multiply num_two and num_one and assign the value to a variable product\n",
        "Divide num_one by num_two and assign the value to a variable division\n",
        "Use modulus division to find num_two divided by num_one and assign the value to a variable remainder\n",
        "Calculate num_one to the power of num_two and assign the value to a variable exp\n",
        "Find floor division of num_one by num_two and assign the value to a variable floor_division'''\n",
        "\n",
        "num_one = 5\n",
        "num_two = 4\n",
        "\n",
        "total = num_one + num_two\n",
        "print(\"Addition:\", total)\n",
        "\n",
        "diff = num_one - num_two\n",
        "print(\"Subtraction:\", diff)\n",
        "\n",
        "product = num_one * num_two\n",
        "print(\"Multiplication:\", product)\n",
        "\n",
        "division = num_one / num_two\n",
        "print(\"Division:\",division)\n",
        "\n",
        "remainder = num_one % num_two\n",
        "print(\"Modulus:\", remainder)\n",
        "\n",
        "exp = num_one ** num_two\n",
        "print(\"Power:\", exp)\n",
        "\n",
        "floor_division = num_one // num_two\n",
        "print(\"Floor Division:\", floor_division)\n"
      ],
      "metadata": {
        "colab": {
          "base_uri": "https://localhost:8080/"
        },
        "id": "r6gWHb-6YhKc",
        "outputId": "46015adc-40da-48ad-fbee-30345b2cf0d9"
      },
      "execution_count": 17,
      "outputs": [
        {
          "output_type": "stream",
          "name": "stdout",
          "text": [
            "Addition: 9\n",
            "Subtraction: 1\n",
            "Multiplication: 20\n",
            "Division: 1.25\n",
            "Modulus: 1\n",
            "Power: 625\n",
            "Floor Division: 1\n"
          ]
        }
      ]
    },
    {
      "cell_type": "code",
      "source": [
        "'''The radius of a circle is 30 meters.\n",
        "Calculate the area of a circle and assign the value to a variable name of area_of_circle\n",
        "Calculate the circumference of a circle and assign the value to a variable name of circum_of_circle\n",
        "Take radius as user input and calculate the area.'''\n",
        "\n",
        "pi = 3.14\n",
        "\n",
        "radius = int(input(\"Radius of the circle :\"))\n",
        "\n",
        "area_of_circle = pi * (radius ** 2)\n",
        "print(\"Area of the circle with\", radius, \"is\" , area_of_circle)\n",
        "\n",
        "circum_of_circle = 2 * pi * radius\n",
        "print(\"Circumference of the circle with\", radius, \"is\" , circum_of_circle)\n",
        "\n",
        "\n"
      ],
      "metadata": {
        "colab": {
          "base_uri": "https://localhost:8080/"
        },
        "id": "ioqX5AZKeXGf",
        "outputId": "1a2bf201-b6e3-4595-ea55-7ac18495f1d0"
      },
      "execution_count": 23,
      "outputs": [
        {
          "output_type": "stream",
          "name": "stdout",
          "text": [
            "Radius of the circle :4\n",
            "Area of the circle with 4 is 50.24\n",
            "Circumference of the circle with 4 is 25.12\n"
          ]
        }
      ]
    },
    {
      "cell_type": "code",
      "source": [
        "#Use the built-in input function to get first name, last name, country and age from a user and store the value to their corresponding variable names\n",
        "first_name = input(\"Your first name:\")\n",
        "last_name = input(\"Your last name:\")\n",
        "country = input(\"Your country:\")\n",
        "age = input(\"Your age:\")\n",
        "\n"
      ],
      "metadata": {
        "colab": {
          "base_uri": "https://localhost:8080/"
        },
        "id": "DkYZc8_vhnnN",
        "outputId": "39ecb037-5f2a-4060-a673-aef130f55ad8"
      },
      "execution_count": 24,
      "outputs": [
        {
          "name": "stdout",
          "output_type": "stream",
          "text": [
            "Your first name:Jyotsana\n",
            "Your last name:Parkhedkar\n",
            "Your country:India\n",
            "Your age:100\n"
          ]
        }
      ]
    },
    {
      "cell_type": "code",
      "source": [
        "#Run help('keywords') in Python shell or in your file to check for the Python reserved words or keywords\n",
        "help(\"keywords\")\n"
      ],
      "metadata": {
        "colab": {
          "base_uri": "https://localhost:8080/"
        },
        "id": "uhY9tSesiPa_",
        "outputId": "7ecb34a5-02d6-4bf3-8470-70f28894e3c6"
      },
      "execution_count": 25,
      "outputs": [
        {
          "output_type": "stream",
          "name": "stdout",
          "text": [
            "\n",
            "Here is a list of the Python keywords.  Enter any keyword to get more help.\n",
            "\n",
            "False               class               from                or\n",
            "None                continue            global              pass\n",
            "True                def                 if                  raise\n",
            "and                 del                 import              return\n",
            "as                  elif                in                  try\n",
            "assert              else                is                  while\n",
            "async               except              lambda              with\n",
            "await               finally             nonlocal            yield\n",
            "break               for                 not                 \n",
            "\n"
          ]
        }
      ]
    }
  ]
}